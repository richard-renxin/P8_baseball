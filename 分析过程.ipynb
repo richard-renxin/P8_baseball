{
 "cells": [
  {
   "cell_type": "markdown",
   "metadata": {},
   "source": [
    "# 棒球数据分析"
   ]
  },
  {
   "cell_type": "code",
   "execution_count": 1,
   "metadata": {},
   "outputs": [],
   "source": [
    "import csv\n",
    "import pandas as pd\n",
    "import numpy as np\n",
    "import seaborn as sns\n",
    "import matplotlib.pyplot as plt"
   ]
  },
  {
   "cell_type": "markdown",
   "metadata": {},
   "source": [
    "# 载入数据"
   ]
  },
  {
   "cell_type": "code",
   "execution_count": 2,
   "metadata": {},
   "outputs": [],
   "source": [
    "baseball = pd.read_csv('baseball_data.csv')\n",
    "for key in baseball.keys():\n",
    "    if baseball[key].isnull().sum():\n",
    "        print key"
   ]
  },
  {
   "cell_type": "code",
   "execution_count": 3,
   "metadata": {},
   "outputs": [
    {
     "data": {
      "text/html": [
       "<div>\n",
       "<style scoped>\n",
       "    .dataframe tbody tr th:only-of-type {\n",
       "        vertical-align: middle;\n",
       "    }\n",
       "\n",
       "    .dataframe tbody tr th {\n",
       "        vertical-align: top;\n",
       "    }\n",
       "\n",
       "    .dataframe thead th {\n",
       "        text-align: right;\n",
       "    }\n",
       "</style>\n",
       "<table border=\"1\" class=\"dataframe\">\n",
       "  <thead>\n",
       "    <tr style=\"text-align: right;\">\n",
       "      <th></th>\n",
       "      <th>name</th>\n",
       "      <th>handedness</th>\n",
       "      <th>height</th>\n",
       "      <th>weight</th>\n",
       "      <th>avg</th>\n",
       "      <th>HR</th>\n",
       "    </tr>\n",
       "  </thead>\n",
       "  <tbody>\n",
       "    <tr>\n",
       "      <th>0</th>\n",
       "      <td>Tom Brown</td>\n",
       "      <td>R</td>\n",
       "      <td>73</td>\n",
       "      <td>170</td>\n",
       "      <td>0.000</td>\n",
       "      <td>0</td>\n",
       "    </tr>\n",
       "    <tr>\n",
       "      <th>1</th>\n",
       "      <td>Denny Lemaster</td>\n",
       "      <td>R</td>\n",
       "      <td>73</td>\n",
       "      <td>182</td>\n",
       "      <td>0.130</td>\n",
       "      <td>4</td>\n",
       "    </tr>\n",
       "    <tr>\n",
       "      <th>2</th>\n",
       "      <td>Joe Nolan</td>\n",
       "      <td>L</td>\n",
       "      <td>71</td>\n",
       "      <td>175</td>\n",
       "      <td>0.263</td>\n",
       "      <td>27</td>\n",
       "    </tr>\n",
       "    <tr>\n",
       "      <th>3</th>\n",
       "      <td>Denny Doyle</td>\n",
       "      <td>L</td>\n",
       "      <td>69</td>\n",
       "      <td>175</td>\n",
       "      <td>0.250</td>\n",
       "      <td>16</td>\n",
       "    </tr>\n",
       "    <tr>\n",
       "      <th>4</th>\n",
       "      <td>Jose Cardenal</td>\n",
       "      <td>R</td>\n",
       "      <td>70</td>\n",
       "      <td>150</td>\n",
       "      <td>0.275</td>\n",
       "      <td>138</td>\n",
       "    </tr>\n",
       "  </tbody>\n",
       "</table>\n",
       "</div>"
      ],
      "text/plain": [
       "             name handedness  height  weight    avg   HR\n",
       "0       Tom Brown          R      73     170  0.000    0\n",
       "1  Denny Lemaster          R      73     182  0.130    4\n",
       "2       Joe Nolan          L      71     175  0.263   27\n",
       "3     Denny Doyle          L      69     175  0.250   16\n",
       "4   Jose Cardenal          R      70     150  0.275  138"
      ]
     },
     "execution_count": 3,
     "metadata": {},
     "output_type": "execute_result"
    }
   ],
   "source": [
    "baseball.head(5)"
   ]
  },
  {
   "cell_type": "markdown",
   "metadata": {},
   "source": [
    "## 分类变量为一个离散变量和两个连续变量,得分情况为结果"
   ]
  },
  {
   "cell_type": "code",
   "execution_count": 4,
   "metadata": {},
   "outputs": [
    {
     "data": {
      "text/html": [
       "<div>\n",
       "<style scoped>\n",
       "    .dataframe tbody tr th:only-of-type {\n",
       "        vertical-align: middle;\n",
       "    }\n",
       "\n",
       "    .dataframe tbody tr th {\n",
       "        vertical-align: top;\n",
       "    }\n",
       "\n",
       "    .dataframe thead th {\n",
       "        text-align: right;\n",
       "    }\n",
       "</style>\n",
       "<table border=\"1\" class=\"dataframe\">\n",
       "  <thead>\n",
       "    <tr style=\"text-align: right;\">\n",
       "      <th></th>\n",
       "      <th>height</th>\n",
       "      <th>weight</th>\n",
       "      <th>avg</th>\n",
       "      <th>HR</th>\n",
       "    </tr>\n",
       "  </thead>\n",
       "  <tbody>\n",
       "    <tr>\n",
       "      <th>count</th>\n",
       "      <td>1157.000000</td>\n",
       "      <td>1157.000000</td>\n",
       "      <td>1157.000000</td>\n",
       "      <td>1157.000000</td>\n",
       "    </tr>\n",
       "    <tr>\n",
       "      <th>mean</th>\n",
       "      <td>72.756266</td>\n",
       "      <td>184.513397</td>\n",
       "      <td>0.186793</td>\n",
       "      <td>45.359551</td>\n",
       "    </tr>\n",
       "    <tr>\n",
       "      <th>std</th>\n",
       "      <td>2.142272</td>\n",
       "      <td>15.445995</td>\n",
       "      <td>0.106175</td>\n",
       "      <td>74.065110</td>\n",
       "    </tr>\n",
       "    <tr>\n",
       "      <th>min</th>\n",
       "      <td>65.000000</td>\n",
       "      <td>140.000000</td>\n",
       "      <td>0.000000</td>\n",
       "      <td>0.000000</td>\n",
       "    </tr>\n",
       "    <tr>\n",
       "      <th>25%</th>\n",
       "      <td>71.000000</td>\n",
       "      <td>175.000000</td>\n",
       "      <td>0.138000</td>\n",
       "      <td>1.000000</td>\n",
       "    </tr>\n",
       "    <tr>\n",
       "      <th>50%</th>\n",
       "      <td>73.000000</td>\n",
       "      <td>185.000000</td>\n",
       "      <td>0.238000</td>\n",
       "      <td>15.000000</td>\n",
       "    </tr>\n",
       "    <tr>\n",
       "      <th>75%</th>\n",
       "      <td>74.000000</td>\n",
       "      <td>195.000000</td>\n",
       "      <td>0.258000</td>\n",
       "      <td>55.000000</td>\n",
       "    </tr>\n",
       "    <tr>\n",
       "      <th>max</th>\n",
       "      <td>80.000000</td>\n",
       "      <td>245.000000</td>\n",
       "      <td>0.328000</td>\n",
       "      <td>563.000000</td>\n",
       "    </tr>\n",
       "  </tbody>\n",
       "</table>\n",
       "</div>"
      ],
      "text/plain": [
       "            height       weight          avg           HR\n",
       "count  1157.000000  1157.000000  1157.000000  1157.000000\n",
       "mean     72.756266   184.513397     0.186793    45.359551\n",
       "std       2.142272    15.445995     0.106175    74.065110\n",
       "min      65.000000   140.000000     0.000000     0.000000\n",
       "25%      71.000000   175.000000     0.138000     1.000000\n",
       "50%      73.000000   185.000000     0.238000    15.000000\n",
       "75%      74.000000   195.000000     0.258000    55.000000\n",
       "max      80.000000   245.000000     0.328000   563.000000"
      ]
     },
     "execution_count": 4,
     "metadata": {},
     "output_type": "execute_result"
    }
   ],
   "source": [
    "baseball.describe()"
   ]
  },
  {
   "cell_type": "code",
   "execution_count": 5,
   "metadata": {},
   "outputs": [
    {
     "name": "stdout",
     "output_type": "stream",
     "text": [
      "handedness\n",
      "B    104\n",
      "L    316\n",
      "R    737\n",
      "Name: name, dtype: int64\n"
     ]
    }
   ],
   "source": [
    "# 惯用手分类计数\n",
    "print baseball.groupby('handedness')[\"name\"].count()"
   ]
  },
  {
   "cell_type": "markdown",
   "metadata": {},
   "source": [
    "## 右手运动员更多"
   ]
  },
  {
   "cell_type": "code",
   "execution_count": 6,
   "metadata": {},
   "outputs": [
    {
     "data": {
      "image/png": "[encoded data removed]",
      "text/plain": [
       "<matplotlib.figure.Figure at 0xdaee860>"
      ]
     },
     "metadata": {},
     "output_type": "display_data"
    }
   ],
   "source": [
    "sns.boxplot(y = 'height', x='handedness', data = baseball)\n",
    "plt.show()"
   ]
  },
  {
   "cell_type": "code",
   "execution_count": 7,
   "metadata": {},
   "outputs": [
    {
     "data": {
      "image/png": "[encoded data removed]",
      "text/plain": [
       "<matplotlib.figure.Figure at 0x8833c18>"
      ]
     },
     "metadata": {},
     "output_type": "display_data"
    }
   ],
   "source": [
    "sns.boxplot(y = 'weight', x='handedness', data = baseball)\n",
    "plt.show()"
   ]
  },
  {
   "cell_type": "markdown",
   "metadata": {},
   "source": [
    "## 惯用手为双手的运动员,身高体重偏低"
   ]
  },
  {
   "cell_type": "code",
   "execution_count": 8,
   "metadata": {},
   "outputs": [
    {
     "data": {
      "image/png": "[encoded data removed]",
      "text/plain": [
       "<matplotlib.figure.Figure at 0xdd9ef98>"
      ]
     },
     "metadata": {},
     "output_type": "display_data"
    }
   ],
   "source": [
    "#sns.boxplot(y = 'avg', x='handedness', data = baseball)\n",
    "sns.boxplot(y = 'avg', x='handedness', data = baseball[baseball['avg']!=0])\n",
    "plt.show()"
   ]
  },
  {
   "cell_type": "markdown",
   "metadata": {},
   "source": [
    "## 左手运动员平均分数更高"
   ]
  },
  {
   "cell_type": "code",
   "execution_count": 9,
   "metadata": {},
   "outputs": [
    {
     "data": {
      "image/png": "[encoded data removed]",
      "text/plain": [
       "<matplotlib.figure.Figure at 0xddab160>"
      ]
     },
     "metadata": {},
     "output_type": "display_data"
    }
   ],
   "source": [
    "#sns.boxplot(y = 'HR', x='handedness', data = baseball)\n",
    "sns.boxplot(y = 'HR', x='handedness', data = baseball[baseball['HR']!=0])\n",
    "plt.show()"
   ]
  },
  {
   "cell_type": "markdown",
   "metadata": {},
   "source": [
    "## 左手运动员全垒打分数更高"
   ]
  },
  {
   "cell_type": "code",
   "execution_count": 10,
   "metadata": {},
   "outputs": [
    {
     "name": "stdout",
     "output_type": "stream",
     "text": [
      "               height      weight       avg         HR\n",
      "handedness                                            \n",
      "B           72.019231  177.451923  0.205048  32.144231\n",
      "L           72.715190  185.129747  0.204513  56.148734\n",
      "R           72.877883  185.245590  0.176620  42.598372\n",
      "            height  weight     avg    HR\n",
      "handedness                              \n",
      "B             72.0   180.0  0.2405  13.0\n",
      "L             73.0   185.0  0.2480  23.5\n",
      "R             73.0   185.0  0.2330  14.0\n"
     ]
    }
   ],
   "source": [
    "#平均数\n",
    "baseball_mean=baseball.groupby('handedness').mean()\n",
    "print baseball_mean\n",
    "\n",
    "\n",
    "# 中位数\n",
    "baseball_median=baseball.groupby('handedness').median()\n",
    "print baseball_median"
   ]
  },
  {
   "cell_type": "code",
   "execution_count": 11,
   "metadata": {},
   "outputs": [],
   "source": [
    "# 最终数据集\n",
    "baseball_median.to_csv(\"baseball_median.csv\")"
   ]
  },
  {
   "cell_type": "code",
   "execution_count": null,
   "metadata": {},
   "outputs": [],
   "source": []
  }
 ],
 "metadata": {
  "kernelspec": {
   "display_name": "Python 2",
   "language": "python",
   "name": "python2"
  },
  "language_info": {
   "codemirror_mode": {
    "name": "ipython",
    "version": 2
   },
   "file_extension": ".py",
   "mimetype": "text/x-python",
   "name": "python",
   "nbconvert_exporter": "python",
   "pygments_lexer": "ipython2",
   "version": "2.7.14"
  }
 },
 "nbformat": 4,
 "nbformat_minor": 2
}
